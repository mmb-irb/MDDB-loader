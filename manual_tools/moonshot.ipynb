{
 "cells": [
  {
   "cell_type": "code",
   "execution_count": 1,
   "id": "6ac2f6e2",
   "metadata": {},
   "outputs": [],
   "source": [
    "import json, urllib, os\n",
    "from math import ceil"
   ]
  },
  {
   "cell_type": "code",
   "execution_count": 2,
   "id": "97482d6d",
   "metadata": {},
   "outputs": [
    {
     "name": "stdout",
     "output_type": "stream",
     "text": [
      "Expected pages: 106\n",
      "http://bioexcel-cv19-dev.bsc.es/api/rest/current/projects?search=Moonshot&limit=100&page=2\n",
      "http://bioexcel-cv19-dev.bsc.es/api/rest/current/projects?search=Moonshot&limit=100&page=3\n",
      "http://bioexcel-cv19-dev.bsc.es/api/rest/current/projects?search=Moonshot&limit=100&page=4\n",
      "http://bioexcel-cv19-dev.bsc.es/api/rest/current/projects?search=Moonshot&limit=100&page=5\n",
      "http://bioexcel-cv19-dev.bsc.es/api/rest/current/projects?search=Moonshot&limit=100&page=6\n",
      "http://bioexcel-cv19-dev.bsc.es/api/rest/current/projects?search=Moonshot&limit=100&page=7\n",
      "http://bioexcel-cv19-dev.bsc.es/api/rest/current/projects?search=Moonshot&limit=100&page=8\n",
      "http://bioexcel-cv19-dev.bsc.es/api/rest/current/projects?search=Moonshot&limit=100&page=9\n",
      "http://bioexcel-cv19-dev.bsc.es/api/rest/current/projects?search=Moonshot&limit=100&page=10\n",
      "http://bioexcel-cv19-dev.bsc.es/api/rest/current/projects?search=Moonshot&limit=100&page=11\n",
      "http://bioexcel-cv19-dev.bsc.es/api/rest/current/projects?search=Moonshot&limit=100&page=12\n",
      "http://bioexcel-cv19-dev.bsc.es/api/rest/current/projects?search=Moonshot&limit=100&page=13\n",
      "http://bioexcel-cv19-dev.bsc.es/api/rest/current/projects?search=Moonshot&limit=100&page=14\n",
      "http://bioexcel-cv19-dev.bsc.es/api/rest/current/projects?search=Moonshot&limit=100&page=15\n",
      "http://bioexcel-cv19-dev.bsc.es/api/rest/current/projects?search=Moonshot&limit=100&page=16\n",
      "http://bioexcel-cv19-dev.bsc.es/api/rest/current/projects?search=Moonshot&limit=100&page=17\n",
      "http://bioexcel-cv19-dev.bsc.es/api/rest/current/projects?search=Moonshot&limit=100&page=18\n",
      "http://bioexcel-cv19-dev.bsc.es/api/rest/current/projects?search=Moonshot&limit=100&page=19\n",
      "http://bioexcel-cv19-dev.bsc.es/api/rest/current/projects?search=Moonshot&limit=100&page=20\n",
      "http://bioexcel-cv19-dev.bsc.es/api/rest/current/projects?search=Moonshot&limit=100&page=21\n",
      "http://bioexcel-cv19-dev.bsc.es/api/rest/current/projects?search=Moonshot&limit=100&page=22\n",
      "http://bioexcel-cv19-dev.bsc.es/api/rest/current/projects?search=Moonshot&limit=100&page=23\n",
      "http://bioexcel-cv19-dev.bsc.es/api/rest/current/projects?search=Moonshot&limit=100&page=24\n",
      "http://bioexcel-cv19-dev.bsc.es/api/rest/current/projects?search=Moonshot&limit=100&page=25\n",
      "http://bioexcel-cv19-dev.bsc.es/api/rest/current/projects?search=Moonshot&limit=100&page=26\n",
      "http://bioexcel-cv19-dev.bsc.es/api/rest/current/projects?search=Moonshot&limit=100&page=27\n",
      "http://bioexcel-cv19-dev.bsc.es/api/rest/current/projects?search=Moonshot&limit=100&page=28\n",
      "http://bioexcel-cv19-dev.bsc.es/api/rest/current/projects?search=Moonshot&limit=100&page=29\n",
      "http://bioexcel-cv19-dev.bsc.es/api/rest/current/projects?search=Moonshot&limit=100&page=30\n",
      "http://bioexcel-cv19-dev.bsc.es/api/rest/current/projects?search=Moonshot&limit=100&page=31\n",
      "http://bioexcel-cv19-dev.bsc.es/api/rest/current/projects?search=Moonshot&limit=100&page=32\n",
      "http://bioexcel-cv19-dev.bsc.es/api/rest/current/projects?search=Moonshot&limit=100&page=33\n",
      "http://bioexcel-cv19-dev.bsc.es/api/rest/current/projects?search=Moonshot&limit=100&page=34\n",
      "http://bioexcel-cv19-dev.bsc.es/api/rest/current/projects?search=Moonshot&limit=100&page=35\n",
      "http://bioexcel-cv19-dev.bsc.es/api/rest/current/projects?search=Moonshot&limit=100&page=36\n",
      "http://bioexcel-cv19-dev.bsc.es/api/rest/current/projects?search=Moonshot&limit=100&page=37\n",
      "http://bioexcel-cv19-dev.bsc.es/api/rest/current/projects?search=Moonshot&limit=100&page=38\n",
      "http://bioexcel-cv19-dev.bsc.es/api/rest/current/projects?search=Moonshot&limit=100&page=39\n",
      "http://bioexcel-cv19-dev.bsc.es/api/rest/current/projects?search=Moonshot&limit=100&page=40\n",
      "http://bioexcel-cv19-dev.bsc.es/api/rest/current/projects?search=Moonshot&limit=100&page=41\n",
      "http://bioexcel-cv19-dev.bsc.es/api/rest/current/projects?search=Moonshot&limit=100&page=42\n",
      "http://bioexcel-cv19-dev.bsc.es/api/rest/current/projects?search=Moonshot&limit=100&page=43\n",
      "http://bioexcel-cv19-dev.bsc.es/api/rest/current/projects?search=Moonshot&limit=100&page=44\n",
      "http://bioexcel-cv19-dev.bsc.es/api/rest/current/projects?search=Moonshot&limit=100&page=45\n",
      "http://bioexcel-cv19-dev.bsc.es/api/rest/current/projects?search=Moonshot&limit=100&page=46\n",
      "http://bioexcel-cv19-dev.bsc.es/api/rest/current/projects?search=Moonshot&limit=100&page=47\n",
      "http://bioexcel-cv19-dev.bsc.es/api/rest/current/projects?search=Moonshot&limit=100&page=48\n",
      "http://bioexcel-cv19-dev.bsc.es/api/rest/current/projects?search=Moonshot&limit=100&page=49\n",
      "http://bioexcel-cv19-dev.bsc.es/api/rest/current/projects?search=Moonshot&limit=100&page=50\n",
      "http://bioexcel-cv19-dev.bsc.es/api/rest/current/projects?search=Moonshot&limit=100&page=51\n",
      "http://bioexcel-cv19-dev.bsc.es/api/rest/current/projects?search=Moonshot&limit=100&page=52\n",
      "http://bioexcel-cv19-dev.bsc.es/api/rest/current/projects?search=Moonshot&limit=100&page=53\n",
      "http://bioexcel-cv19-dev.bsc.es/api/rest/current/projects?search=Moonshot&limit=100&page=54\n",
      "http://bioexcel-cv19-dev.bsc.es/api/rest/current/projects?search=Moonshot&limit=100&page=55\n",
      "http://bioexcel-cv19-dev.bsc.es/api/rest/current/projects?search=Moonshot&limit=100&page=56\n",
      "http://bioexcel-cv19-dev.bsc.es/api/rest/current/projects?search=Moonshot&limit=100&page=57\n",
      "http://bioexcel-cv19-dev.bsc.es/api/rest/current/projects?search=Moonshot&limit=100&page=58\n",
      "http://bioexcel-cv19-dev.bsc.es/api/rest/current/projects?search=Moonshot&limit=100&page=59\n",
      "http://bioexcel-cv19-dev.bsc.es/api/rest/current/projects?search=Moonshot&limit=100&page=60\n",
      "http://bioexcel-cv19-dev.bsc.es/api/rest/current/projects?search=Moonshot&limit=100&page=61\n",
      "http://bioexcel-cv19-dev.bsc.es/api/rest/current/projects?search=Moonshot&limit=100&page=62\n",
      "http://bioexcel-cv19-dev.bsc.es/api/rest/current/projects?search=Moonshot&limit=100&page=63\n",
      "http://bioexcel-cv19-dev.bsc.es/api/rest/current/projects?search=Moonshot&limit=100&page=64\n",
      "http://bioexcel-cv19-dev.bsc.es/api/rest/current/projects?search=Moonshot&limit=100&page=65\n",
      "http://bioexcel-cv19-dev.bsc.es/api/rest/current/projects?search=Moonshot&limit=100&page=66\n",
      "http://bioexcel-cv19-dev.bsc.es/api/rest/current/projects?search=Moonshot&limit=100&page=67\n",
      "http://bioexcel-cv19-dev.bsc.es/api/rest/current/projects?search=Moonshot&limit=100&page=68\n",
      "http://bioexcel-cv19-dev.bsc.es/api/rest/current/projects?search=Moonshot&limit=100&page=69\n",
      "http://bioexcel-cv19-dev.bsc.es/api/rest/current/projects?search=Moonshot&limit=100&page=70\n",
      "http://bioexcel-cv19-dev.bsc.es/api/rest/current/projects?search=Moonshot&limit=100&page=71\n",
      "http://bioexcel-cv19-dev.bsc.es/api/rest/current/projects?search=Moonshot&limit=100&page=72\n",
      "http://bioexcel-cv19-dev.bsc.es/api/rest/current/projects?search=Moonshot&limit=100&page=73\n",
      "http://bioexcel-cv19-dev.bsc.es/api/rest/current/projects?search=Moonshot&limit=100&page=74\n",
      "http://bioexcel-cv19-dev.bsc.es/api/rest/current/projects?search=Moonshot&limit=100&page=75\n",
      "http://bioexcel-cv19-dev.bsc.es/api/rest/current/projects?search=Moonshot&limit=100&page=76\n",
      "http://bioexcel-cv19-dev.bsc.es/api/rest/current/projects?search=Moonshot&limit=100&page=77\n",
      "http://bioexcel-cv19-dev.bsc.es/api/rest/current/projects?search=Moonshot&limit=100&page=78\n",
      "http://bioexcel-cv19-dev.bsc.es/api/rest/current/projects?search=Moonshot&limit=100&page=79\n",
      "http://bioexcel-cv19-dev.bsc.es/api/rest/current/projects?search=Moonshot&limit=100&page=80\n",
      "http://bioexcel-cv19-dev.bsc.es/api/rest/current/projects?search=Moonshot&limit=100&page=81\n",
      "http://bioexcel-cv19-dev.bsc.es/api/rest/current/projects?search=Moonshot&limit=100&page=82\n",
      "http://bioexcel-cv19-dev.bsc.es/api/rest/current/projects?search=Moonshot&limit=100&page=83\n",
      "http://bioexcel-cv19-dev.bsc.es/api/rest/current/projects?search=Moonshot&limit=100&page=84\n",
      "http://bioexcel-cv19-dev.bsc.es/api/rest/current/projects?search=Moonshot&limit=100&page=85\n",
      "http://bioexcel-cv19-dev.bsc.es/api/rest/current/projects?search=Moonshot&limit=100&page=86\n",
      "http://bioexcel-cv19-dev.bsc.es/api/rest/current/projects?search=Moonshot&limit=100&page=87\n",
      "http://bioexcel-cv19-dev.bsc.es/api/rest/current/projects?search=Moonshot&limit=100&page=88\n",
      "http://bioexcel-cv19-dev.bsc.es/api/rest/current/projects?search=Moonshot&limit=100&page=89\n",
      "http://bioexcel-cv19-dev.bsc.es/api/rest/current/projects?search=Moonshot&limit=100&page=90\n"
     ]
    },
    {
     "name": "stdout",
     "output_type": "stream",
     "text": [
      "http://bioexcel-cv19-dev.bsc.es/api/rest/current/projects?search=Moonshot&limit=100&page=91\n",
      "http://bioexcel-cv19-dev.bsc.es/api/rest/current/projects?search=Moonshot&limit=100&page=92\n",
      "http://bioexcel-cv19-dev.bsc.es/api/rest/current/projects?search=Moonshot&limit=100&page=93\n",
      "http://bioexcel-cv19-dev.bsc.es/api/rest/current/projects?search=Moonshot&limit=100&page=94\n",
      "http://bioexcel-cv19-dev.bsc.es/api/rest/current/projects?search=Moonshot&limit=100&page=95\n",
      "http://bioexcel-cv19-dev.bsc.es/api/rest/current/projects?search=Moonshot&limit=100&page=96\n",
      "http://bioexcel-cv19-dev.bsc.es/api/rest/current/projects?search=Moonshot&limit=100&page=97\n",
      "http://bioexcel-cv19-dev.bsc.es/api/rest/current/projects?search=Moonshot&limit=100&page=98\n",
      "http://bioexcel-cv19-dev.bsc.es/api/rest/current/projects?search=Moonshot&limit=100&page=99\n",
      "http://bioexcel-cv19-dev.bsc.es/api/rest/current/projects?search=Moonshot&limit=100&page=100\n",
      "http://bioexcel-cv19-dev.bsc.es/api/rest/current/projects?search=Moonshot&limit=100&page=101\n",
      "http://bioexcel-cv19-dev.bsc.es/api/rest/current/projects?search=Moonshot&limit=100&page=102\n",
      "http://bioexcel-cv19-dev.bsc.es/api/rest/current/projects?search=Moonshot&limit=100&page=103\n",
      "http://bioexcel-cv19-dev.bsc.es/api/rest/current/projects?search=Moonshot&limit=100&page=104\n",
      "http://bioexcel-cv19-dev.bsc.es/api/rest/current/projects?search=Moonshot&limit=100&page=105\n",
      "http://bioexcel-cv19-dev.bsc.es/api/rest/current/projects?search=Moonshot&limit=100&page=106\n",
      "10543\n"
     ]
    }
   ],
   "source": [
    "# Set the API URL\n",
    "API_BASE = \"http://bioexcel-cv19-dev.bsc.es/api/rest/current\"\n",
    "\n",
    "\n",
    "# Get unit projects\n",
    "projects = []\n",
    "simulations_request = API_BASE + '/projects?search=Moonshot&limit=100'\n",
    "with urllib.request.urlopen(simulations_request) as response:\n",
    "    response_data = json.loads(response.read().decode(\"utf-8\"))\n",
    "projects_count = response_data['filteredCount']\n",
    "projects_data = [ { 'name': data['metadata']['NAME'], 'id': data['identifier'] } for data in response_data['projects'] ]\n",
    "projects += projects_data\n",
    "\n",
    "expected_pages_count = ceil(projects_count / 100)\n",
    "print('Expected pages: ' + str(expected_pages_count))\n",
    "for page in range(2, expected_pages_count + 1):\n",
    "    simulations_request = API_BASE + '/projects?search=Moonshot&limit=100&page=' + str(page)\n",
    "    print(simulations_request)\n",
    "    with urllib.request.urlopen(simulations_request) as response:\n",
    "        response_data = json.loads(response.read().decode(\"utf-8\"))\n",
    "    projects_count = response_data['filteredCount']\n",
    "    projects_data = [ { 'name': data['metadata']['NAME'], 'id': data['identifier'] } for data in response_data['projects'] ]\n",
    "    projects += projects_data\n",
    "\n",
    "\n",
    "print(len(projects))"
   ]
  },
  {
   "cell_type": "markdown",
   "id": "54a0a910",
   "metadata": {},
   "source": [
    "Group projects by replicas"
   ]
  },
  {
   "cell_type": "code",
   "execution_count": 3,
   "id": "3dd4f35e",
   "metadata": {},
   "outputs": [
    {
     "name": "stdout",
     "output_type": "stream",
     "text": [
      "{'name': 'Folding@home molecular dynamics simulations of Diamond Light Source / XChem X-ray structures of small molecule inhibitors of the SARS-CoV-2 main protease from the COVID Moonshot; project 13432, run 0, clone 0', 'id': '649973d89c13ff677a92116a'}\n"
     ]
    }
   ],
   "source": [
    "print(projects[0])"
   ]
  },
  {
   "cell_type": "code",
   "execution_count": 16,
   "id": "b4fd22f7",
   "metadata": {},
   "outputs": [],
   "source": [
    "clones_per_project = {}\n",
    "for project in projects:\n",
    "    name = project['name'][:-9]\n",
    "    clone = project['name'][-7:]\n",
    "    current_list = clones_per_project.get(name, None)\n",
    "    if current_list:\n",
    "        current_list[clone] = project['id']\n",
    "    else:\n",
    "        clones_per_project[name] = { clone: project['id'] }"
   ]
  },
  {
   "cell_type": "code",
   "execution_count": 18,
   "id": "18a58549",
   "metadata": {},
   "outputs": [
    {
     "data": {
      "text/plain": [
       "1234"
      ]
     },
     "execution_count": 18,
     "metadata": {},
     "output_type": "execute_result"
    }
   ],
   "source": [
    "len(clones_per_project)"
   ]
  },
  {
   "cell_type": "code",
   "execution_count": 19,
   "id": "e978a9a5",
   "metadata": {},
   "outputs": [],
   "source": [
    "with open('moonshot_backup.json', 'w') as file:\n",
    "    json.dump(clones_per_project, file)"
   ]
  },
  {
   "cell_type": "code",
   "execution_count": null,
   "id": "b82585cf",
   "metadata": {},
   "outputs": [],
   "source": []
  }
 ],
 "metadata": {
  "kernelspec": {
   "display_name": "Python 3 (ipykernel)",
   "language": "python",
   "name": "python3"
  },
  "language_info": {
   "codemirror_mode": {
    "name": "ipython",
    "version": 3
   },
   "file_extension": ".py",
   "mimetype": "text/x-python",
   "name": "python",
   "nbconvert_exporter": "python",
   "pygments_lexer": "ipython3",
   "version": "3.9.15"
  }
 },
 "nbformat": 4,
 "nbformat_minor": 5
}
